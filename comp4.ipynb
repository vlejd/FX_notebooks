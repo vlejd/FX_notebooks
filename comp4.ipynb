{
 "cells": [
  {
   "cell_type": "markdown",
   "metadata": {},
   "source": [
    "# Comp 4\n",
    "\n",
    "Peter Vanya\n",
    "\n",
    "Jarná škola FX, marec 2016\n",
    "\n",
    "## Fyzika\n",
    "* derivovanie, integrovanie\n",
    "* diferenciálne rovnice\n",
    "* knižnica `scipy`"
   ]
  },
  {
   "cell_type": "code",
   "execution_count": 2,
   "metadata": {
    "collapsed": true
   },
   "outputs": [],
   "source": [
    "import numpy as np\n",
    "from math import *\n",
    "%matplotlib inline"
   ]
  },
  {
   "cell_type": "markdown",
   "metadata": {
    "collapsed": true
   },
   "source": [
    "---\n",
    "## Derivovanie\n",
    "\n",
    "Trochu teórie:\n",
    "$$ \\frac{df}{dx} = \\frac{f(x+h) - f(x-h)}{2h} $$\n",
    "\n",
    "Zvolíme si malé $h$ a derivujeme."
   ]
  },
  {
   "cell_type": "code",
   "execution_count": 47,
   "metadata": {
    "collapsed": false,
    "scrolled": true
   },
   "outputs": [],
   "source": [
    "def func(x):\n",
    "    return cos(x)\n",
    "\n",
    "def deriv(f, x, h=0.01):\n",
    "    return (f(x+h)-f(x-h))/(2*h)\n",
    "\n",
    "x = np.linspace(0, 2*pi, 101)\n",
    "#print(x)\n",
    "y = [func(i) for i in x]\n",
    "dydx = [deriv(func, i) for i in x]\n",
    "\n",
    "plt.plot(x, y, label=\"$f(x)$\")\n",
    "plt.plot(x, dydx, label=\"$\\\\frac{df}{dx}$\")\n",
    "plt.xlim([0, 2*pi])\n",
    "plt.xticks([0, pi, 2*pi])\n",
    "plt.legend(loc=\"best\")\n",
    "plt.show()"
   ]
  },
  {
   "cell_type": "markdown",
   "metadata": {},
   "source": [
    "---\n",
    "## Integrovanie\n",
    "\n",
    "Dva typy:\n",
    "* Kvadratúra\n",
    "* Monte Carlo\n",
    "\n",
    "Pomôžu nám knižnice. Dva spôsoby:\n",
    "* kvadratúra (dobrá v 1d, ale so zvyšovaním rozmerov presnosť klesá)\n",
    "* Monte Carlo (presnosť vždy $O(N^{-1/2})$, použiť pri viac ako troch rozmeroch)\n",
    "\n",
    "Teraz si ukážeme kvadratúru."
   ]
  },
  {
   "cell_type": "code",
   "execution_count": 55,
   "metadata": {
    "collapsed": false
   },
   "outputs": [],
   "source": [
    "#from scipy.integrate import quad\n",
    "import scipy.integrate as spint\n",
    "\n",
    "def func2(x):\n",
    "    return exp(-x**2)\n",
    "\n",
    "spint.quad(func2, -20, 20)   # vysledok je 1/4"
   ]
  },
  {
   "cell_type": "code",
   "execution_count": 52,
   "metadata": {
    "collapsed": false
   },
   "outputs": [],
   "source": [
    "sqrt(pi)"
   ]
  },
  {
   "cell_type": "markdown",
   "metadata": {},
   "source": [
    "## Diferenciálne rovnice\n",
    "\n",
    "Príklad neriešiteľnej difky:\n",
    "$$ y'(x) = \\sqrt{1+xy} $$\n",
    "Príklad Eulerovej (najjednoduchšej) metódy."
   ]
  },
  {
   "cell_type": "code",
   "execution_count": 3,
   "metadata": {
    "collapsed": false
   },
   "outputs": [],
   "source": [
    "N = 101\n",
    "x = np.linspace(0, 1, N)\n",
    "dx = x[1] - x[0]\n",
    "y_eu = np.zeros(N)\n",
    "y_eu[0] = 1      # pociatocna podmienka\n",
    "\n",
    "def func(x, y):\n",
    "    return sqrt(1.0 + x*y)\n",
    "#    return sin(x)\n",
    "\n",
    "for i in range(1, N):\n",
    "    y_eu[i] = y_eu[i-1] + func(x[i-1], y_eu[i-1])*dx\n",
    "    \n",
    "plt.plot(x, y_eu)\n",
    "plt.show()"
   ]
  },
  {
   "cell_type": "markdown",
   "metadata": {},
   "source": [
    "## Difky za pomoci knižníc\n",
    "\n",
    "Použijeme funkciu `ode` z knižnice `scipy`. Znova riešime\n",
    "$$y'(x) = \\sqrt{1+xy} .$$"
   ]
  },
  {
   "cell_type": "code",
   "execution_count": 5,
   "metadata": {
    "collapsed": false
   },
   "outputs": [],
   "source": [
    "from scipy.integrate import odeint\n",
    "\n",
    "N = 101\n",
    "\n",
    "def func(y, x):\n",
    "    return sqrt(1 + x*y)\n",
    "\n",
    "x = np.linspace(0, 1, N)\n",
    "y0 = 1.0\n",
    "y = odeint(func, y0, x)\n",
    "\n",
    "plt.plot(x, (y_eu-y.T[0])/y.T[0])\n",
    "plt.title(\"Rozdiel medzi odeint a Eulerom\")\n",
    "plt.show()"
   ]
  },
  {
   "cell_type": "markdown",
   "metadata": {},
   "source": [
    "# Fyzika: obiehanie Zeme okolo Slnka\n",
    "\n",
    "Fyziku (dúfam!) všetci poznáme.\n",
    "\n",
    "* gravitačná sila:\n",
    "$$ \\mathbf F(\\mathbf r) = -\\frac{G m M}{r^3} \\mathbf r $$\n",
    "\n",
    "### Eulerov algoritmus (zlý)\n",
    "$$\\begin{align}\n",
    "a(t) &= F(t)/m \\\\\n",
    "v(t+dt) &= v(t) + a(t) dt \\\\\n",
    "x(t+dt) &= x(t) + v(t) dt \\\\\n",
    "\\end{align}$$\n",
    "\n",
    "### Verletov algoritmus (dobrý)\n",
    "$$ x(t+dt) = 2 x(t) - x(t-dt) + a(t) dt^2 $$"
   ]
  },
  {
   "cell_type": "code",
   "execution_count": 100,
   "metadata": {
    "collapsed": false
   },
   "outputs": [],
   "source": [
    "from numpy.linalg import norm\n",
    "\n",
    "G = 6.67e-11\n",
    "Ms = 2e30\n",
    "Mz = 6e24\n",
    "dt = 86400.0\n",
    "N = int(365*86400.0/dt)\n",
    "#print(N)\n",
    "\n",
    "R0 = 1.5e11\n",
    "r_list = np.zeros((N, 2))\n",
    "r_list[0] = [R0, 0.0]     # mozno miesat listy s ndarray\n",
    "\n",
    "v0 = 29.7e3\n",
    "v_list = np.zeros((N, 2))\n",
    "v_list[0] = [0.0, v0]\n",
    "\n",
    "# sila medzi planetami\n",
    "def force(A, r):\n",
    "    return -A / norm(r)**3 * r\n",
    "\n",
    "# Verletova integracia\n",
    "def verlet_step(r_n, r_nm1, a, dt):  # r_nm1 -- r n minus 1\n",
    "    return 2*r_n - r_nm1 + a*dt**2\n",
    "\n",
    "# prvy krok je specialny\n",
    "a = force(G*Ms, r_list[0])\n",
    "r_list[1] = r_list[0] + v_list[0]*dt + a*dt**2/2\n",
    "\n",
    "\n",
    "# riesenie pohybovych rovnic\n",
    "for i in range(2, N):\n",
    "    a = force(G*Ms, r_list[i-1])\n",
    "    r_list[i] = verlet_step(r_list[i-1], r_list[i-2], a, dt)\n",
    "    \n",
    "    \n",
    "plt.plot(r_list[:, 0], r_list[:, 1])\n",
    "plt.xlim([-2e11, 2e11])\n",
    "plt.ylim([-2e11, 2e11])\n",
    "plt.xlabel(\"$x$\", fontsize=20)\n",
    "plt.ylabel(\"$y$\", fontsize=20)\n",
    "plt.gca().set_aspect('equal', adjustable='box')\n",
    "#plt.axis(\"equal\")\n",
    "plt.show()"
   ]
  },
  {
   "cell_type": "markdown",
   "metadata": {},
   "source": [
    "## Pridajme Mesiac"
   ]
  },
  {
   "cell_type": "code",
   "execution_count": 119,
   "metadata": {
    "collapsed": false
   },
   "outputs": [],
   "source": [
    "Mm = 7.3e22\n",
    "R0m = R0 + 384e6\n",
    "v0m = v0 + 1e3\n",
    "rm_list = np.zeros((N, 2))\n",
    "rm_list[0] = [R0m, 0.0]\n",
    "vm_list = np.zeros((N, 2))\n",
    "vm_list[0] = [0.0, v0m]\n",
    "\n",
    "# prvy Verletov krok\n",
    "am = force(G*Ms, rm_list[0]) + force(G*Mz, rm_list[0] - r_list[0])\n",
    "rm_list[1] = rm_list[0] + vm_list[0]*dt + am*dt**2/2\n",
    "\n",
    "# riesenie pohybovych rovnic\n",
    "for i in range(2, N):\n",
    "    a = force(G*Ms, r_list[i-1]) - force(G*Mm, rm_list[i-1]-r_list[i-1])\n",
    "    am = force(G*Ms, rm_list[i-1]) + force(G*Mz, rm_list[i-1]-r_list[i-1])\n",
    "    r_list[i] = verlet_step(r_list[i-1], r_list[i-2], a, dt)\n",
    "    rm_list[i] = verlet_step(rm_list[i-1], rm_list[i-2], am, dt)\n",
    "    \n",
    "plt.plot(r_list[:, 0], r_list[:, 1])\n",
    "plt.plot(rm_list[:, 0], rm_list[:, 1])\n",
    "plt.xlabel(\"$x$\", fontsize=20)\n",
    "plt.ylabel(\"$y$\", fontsize=20)\n",
    "plt.gca().set_aspect('equal', adjustable='box')\n",
    "plt.xlim([-2e11, 2e11])\n",
    "plt.ylim([-2e11, 2e11])\n",
    "plt.show()         # mesiac moc nevidno, ale vieme, ze tam je"
   ]
  },
  {
   "cell_type": "markdown",
   "metadata": {
    "collapsed": true
   },
   "source": [
    "---\n",
    "## [Problem 1]\n",
    "Pridajte Mars!"
   ]
  },
  {
   "cell_type": "markdown",
   "metadata": {},
   "source": [
    "---\n",
    "## [Problem 2]\n",
    "Nasimulujte matematické kyvadlo s odporom $\\gamma$,\n",
    "$$ \\ddot \\theta = -\\frac g l \\sin\\theta -\\gamma \\theta^2,$$\n",
    "za pomoci metódy `odeint`.\n",
    "\n",
    "Alebo pád telesa v odporovom prostredí:\n",
    "$$ a = -g - kv^2.$$"
   ]
  },
  {
   "cell_type": "code",
   "execution_count": 11,
   "metadata": {
    "collapsed": false
   },
   "outputs": [],
   "source": [
    "from scipy.integrate import odeint\n",
    "\n",
    "def F(y, t, g, k):\n",
    "    return [y[1], g -k*y[1]**2]\n",
    "\n",
    "N = 101\n",
    "k = 1.0\n",
    "g = 10.0\n",
    "t = np.linspace(0, 1, N)\n",
    "y0 = [0.0, 0.0]\n",
    "y = odeint(F, y0, t, args=(g, k))\n",
    "\n",
    "plt.plot(t, y[:, 1])\n",
    "plt.xlabel(\"$t$\", fontsize=20)\n",
    "plt.ylabel(\"$v(t)$\", fontsize=20)\n",
    "plt.show()"
   ]
  },
  {
   "cell_type": "code",
   "execution_count": null,
   "metadata": {
    "collapsed": true
   },
   "outputs": [],
   "source": []
  }
 ],
 "metadata": {
  "kernelspec": {
   "display_name": "Python 3",
   "language": "python",
   "name": "python3"
  },
  "language_info": {
   "codemirror_mode": {
    "name": "ipython",
    "version": 3
   },
   "file_extension": ".py",
   "mimetype": "text/x-python",
   "name": "python",
   "nbconvert_exporter": "python",
   "pygments_lexer": "ipython3",
   "version": "3.5.2"
  }
 },
 "nbformat": 4,
 "nbformat_minor": 0
}
