{
 "cells": [
  {
   "cell_type": "markdown",
   "metadata": {},
   "source": [
    "# Comp 3\n",
    "\n",
    "Peter Vanya\n",
    "\n",
    "Jarná škola FX, marec 2016\n",
    "\n",
    "## Program na dnes\n",
    "Práca so súbormi, tlačenie a načítanie dát."
   ]
  },
  {
   "cell_type": "markdown",
   "metadata": {},
   "source": [
    "## Za pomoci numpy\n",
    "\n",
    "Najjednoduchší spôsob za pomoci dvoch príkazov: `np.loadtxt` a `np.savetxt`."
   ]
  },
  {
   "cell_type": "code",
   "execution_count": 3,
   "metadata": {
    "collapsed": false
   },
   "outputs": [
    {
     "name": "stdout",
     "output_type": "stream",
     "text": [
      "[0 1 2 3 4 5 6 7 8 9]\n"
     ]
    },
    {
     "data": {
      "text/plain": [
       "['.git',\n",
       " 'comp1.ipynb',\n",
       " 'eminem.out',\n",
       " 'comp3.ipynb',\n",
       " 'subor.out',\n",
       " '.ipynb_checkpoints',\n",
       " 'linalg_lect.ipynb',\n",
       " 'comp2.ipynb',\n",
       " 'comp4.ipynb']"
      ]
     },
     "execution_count": 3,
     "metadata": {},
     "output_type": "execute_result"
    }
   ],
   "source": [
    "# najjednoduchsi sposob\n",
    "import numpy as np\n",
    "import os\n",
    "\n",
    "a = np.arange(10)\n",
    "print(a)\n",
    "fname = \"subor.out\"\n",
    "np.savetxt(fname, a)   # vektor ulozeny v subor.out\n",
    "os.listdir(\".\")        # je tam, ale pozor na formatovanie"
   ]
  },
  {
   "cell_type": "code",
   "execution_count": 4,
   "metadata": {
    "collapsed": false
   },
   "outputs": [
    {
     "name": "stdout",
     "output_type": "stream",
     "text": [
      "0.000000000000000000e+00\r\n",
      "1.000000000000000000e+00\r\n",
      "2.000000000000000000e+00\r\n",
      "3.000000000000000000e+00\r\n",
      "4.000000000000000000e+00\r\n",
      "5.000000000000000000e+00\r\n",
      "6.000000000000000000e+00\r\n",
      "7.000000000000000000e+00\r\n",
      "8.000000000000000000e+00\r\n",
      "9.000000000000000000e+00\r\n"
     ]
    }
   ],
   "source": [
    "cat subor.out"
   ]
  },
  {
   "cell_type": "code",
   "execution_count": 5,
   "metadata": {
    "collapsed": false
   },
   "outputs": [
    {
     "data": {
      "text/plain": [
       "array([ 0.,  1.,  2.,  3.,  4.,  5.,  6.,  7.,  8.,  9.])"
      ]
     },
     "execution_count": 5,
     "metadata": {},
     "output_type": "execute_result"
    }
   ],
   "source": [
    "# opatovne nacitanie\n",
    "b = np.loadtxt(\"subor.out\")\n",
    "b    # premena z int na float"
   ]
  },
  {
   "cell_type": "markdown",
   "metadata": {},
   "source": [
    "## Štandardný Python"
   ]
  },
  {
   "cell_type": "code",
   "execution_count": 6,
   "metadata": {
    "collapsed": false
   },
   "outputs": [
    {
     "data": {
      "text/plain": [
       "26"
      ]
     },
     "execution_count": 6,
     "metadata": {},
     "output_type": "execute_result"
    }
   ],
   "source": [
    "veta = \"toto je veta\"\n",
    "fname = \"veta.out\"\n",
    "\n",
    "# spravny sposob\n",
    "with open(fname, \"w\") as f:\n",
    "    f.write(veta)\n",
    "        \n",
    "# alebo na jeden riadok\n",
    "open(fname, \"w\").write(veta + \"42\" + veta)"
   ]
  },
  {
   "cell_type": "code",
   "execution_count": 7,
   "metadata": {
    "collapsed": false
   },
   "outputs": [
    {
     "name": "stdout",
     "output_type": "stream",
     "text": [
      "toto je veta42toto je veta\n",
      "26\n"
     ]
    }
   ],
   "source": [
    "# nacitanie\n",
    "veta = open(fname, \"r\").read()\n",
    "print(veta)\n",
    "print(len(veta))    # dlzka"
   ]
  },
  {
   "cell_type": "code",
   "execution_count": 7,
   "metadata": {
    "collapsed": true
   },
   "outputs": [],
   "source": [
    "# popripade vieme pouzit aj print (pozor, funguje len v python 3)\n",
    "f = open(\"veta2.out\", \"w\")  # to w znamena, ze je to otvorene na pisanie (writing)\n",
    "print(\"Super veta 3000\", file=f)\n",
    "f.close()"
   ]
  },
  {
   "cell_type": "markdown",
   "metadata": {},
   "source": [
    "## Operácie so stringom [Adv 1]\n",
    "Python má perfektné možnosti manipulácie stringov, stojí za to sa ich naučiť (napr. ak raz budete chcieť scrapovať internet alebo \"čítať\" emaily)"
   ]
  },
  {
   "cell_type": "code",
   "execution_count": 8,
   "metadata": {
    "collapsed": false
   },
   "outputs": [
    {
     "name": "stdout",
     "output_type": "stream",
     "text": [
      "toto je veta\n",
      "['toto', 'je', 'veta']\n",
      "['', 'o', 'o je ve', 'a']\n"
     ]
    }
   ],
   "source": [
    "print(veta)\n",
    "print(veta.split())              # rozdel podla medzier\n",
    "print(veta.split(\"t\"))           # rozdel podla znaku t"
   ]
  },
  {
   "cell_type": "code",
   "execution_count": 9,
   "metadata": {
    "collapsed": false
   },
   "outputs": [
    {
     "name": "stdout",
     "output_type": "stream",
     "text": [
      "toto_333_je_333_veta\n"
     ]
    }
   ],
   "source": [
    "print(\"_333_\".join(veta.split()))    # spoj naspat podla zelaneho znaku"
   ]
  },
  {
   "cell_type": "markdown",
   "metadata": {},
   "source": [
    "Realny text:"
   ]
  },
  {
   "cell_type": "code",
   "execution_count": 10,
   "metadata": {
    "collapsed": false
   },
   "outputs": [
    {
     "name": "stdout",
     "output_type": "stream",
     "text": [
      "3357\n",
      "654\n"
     ]
    }
   ],
   "source": [
    "fname = \"eminem.out\"\n",
    "lyric = open(fname, \"r\").read()\n",
    "print(len(lyric))                   # pocet znakov\n",
    "print(len(lyric.split()))           # pocet slov"
   ]
  },
  {
   "cell_type": "code",
   "execution_count": 11,
   "metadata": {
    "collapsed": false
   },
   "outputs": [
    {
     "data": {
      "text/plain": [
       "88"
      ]
     },
     "execution_count": 11,
     "metadata": {},
     "output_type": "execute_result"
    }
   ],
   "source": [
    "# inak\n",
    "lyric = open(fname, \"r\").readlines()\n",
    "len(lyric)        # pocet riadkov"
   ]
  },
  {
   "cell_type": "code",
   "execution_count": 12,
   "metadata": {
    "collapsed": false
   },
   "outputs": [
    {
     "name": "stdout",
     "output_type": "stream",
     "text": [
      "['\"Lose Yourself\"\\n', '\\n', 'Look, if you had, one shot, or one opportunity\\n', 'To seize everything you ever wanted. In one moment\\n', 'Would you capture it, or just let it slip?\\n', 'Yo\\n', '\\n', 'His palms are sweaty, knees weak, arms are heavy\\n', \"There's vomit on his sweater already, mom's spaghetti\\n\", \"He's nervous, but on the surface he looks calm and ready to drop bombs,\\n\", 'But he keeps on forgetting what he wrote down,\\n', 'The whole crowd goes so loud\\n', \"He opens his mouth, but the words won't come out\\n\", \"He's choking how, everybody's joking now\\n\", \"The clock's run out, time's up, over, blaow!\\n\", 'Snap back to reality. Oh, there goes gravity\\n', 'Oh, there goes Rabbit, he choked\\n', \"He's so mad, but he won't give up that\\n\", 'Easy, no\\n', \"He won't have it, he knows his whole back's to these ropes\\n\", \"It don't matter, he's dope\\n\", \"He knows that but he's broke\\n\", \"He's so sad that he knows\\n\", \"When he goes back to his mobile home, that's when it's\\n\", 'Back to the lab again, yo\\n', 'This whole rhapsody\\n', \"He better go capture this moment and hope it don't pass him\\n\", '\\n', '[Hook:]\\n', 'You better lose yourself in the music, the moment\\n', 'You own it, you better never let it go (go)\\n', 'You only get one shot, do not miss your chance to blow\\n', 'This opportunity comes once in a lifetime (yo)\\n', 'You better lose yourself in the music, the moment\\n', 'You own it, you better never let it go (go)\\n', 'You only get one shot, do not miss your chance to blow\\n', 'This opportunity comes once in a lifetime (yo)\\n', '(You better)\\n', '\\n', \"The soul's escaping, through this hole that is gaping\\n\", 'This world is mine for the taking\\n', 'Make me king, as we move toward a new world order\\n', \"A normal life is boring, but superstardom's close to postmortem\\n\", 'It only grows harder, homie grows hotter\\n', \"He blows. It's all over. These hoes is all on him\\n\", \"Coast to coast shows, he's known as the globetrotter\\n\", 'Lonely roads, God only knows\\n', \"He's grown farther from home, he's no father\\n\", 'He goes home and barely knows his own daughter\\n', \"But hold your nose 'cause here goes the cold water\\n\"]\n"
     ]
    }
   ],
   "source": [
    "print(lyric[:50])"
   ]
  },
  {
   "cell_type": "code",
   "execution_count": 13,
   "metadata": {
    "collapsed": false
   },
   "outputs": [
    {
     "data": {
      "text/plain": [
       "['Tear this motherfucking roof off like two dogs caged\\n',\n",
       " \"Success is my only motherfucking option, failure's not\\n\"]"
      ]
     },
     "execution_count": 13,
     "metadata": {},
     "output_type": "execute_result"
    }
   ],
   "source": [
    "# najdime nejake slovo\n",
    "word = \"mother\"\n",
    "zoznam_riadkov = [l for l in lyric if word in l]\n",
    "zoznam_riadkov"
   ]
  },
  {
   "cell_type": "code",
   "execution_count": 15,
   "metadata": {
    "collapsed": false
   },
   "outputs": [
    {
     "data": {
      "text/plain": [
       "[0, 1, 4, 9, 16, 25, 36, 49, 64, 81]"
      ]
     },
     "execution_count": 15,
     "metadata": {},
     "output_type": "execute_result"
    }
   ],
   "source": [
    "[i**2 for i in range(10)]"
   ]
  },
  {
   "cell_type": "code",
   "execution_count": 16,
   "metadata": {
    "collapsed": false
   },
   "outputs": [
    {
     "name": "stdout",
     "output_type": "stream",
     "text": [
      "['shot,', 'shot,', 'shot,', 'hotter', 'shot', 'shot.']\n"
     ]
    },
    {
     "data": {
      "text/plain": [
       "['shot', 'shot', 'shot', 'hotter', 'shot', 'shot']"
      ]
     },
     "execution_count": 16,
     "metadata": {},
     "output_type": "execute_result"
    }
   ],
   "source": [
    "lyric = open(\"eminem.out\", \"r\").readlines()\n",
    "#print(lyric[:100])\n",
    "hot_vety = [l for l in lyric if \"hot\" in l]\n",
    "hot_slova = [slovo for slovo in \" \".join(hot_vety).split() if \"hot\" in slovo]\n",
    "print(hot_slova)\n",
    "hot_slova = [s.rstrip(\".\") for s in hot_slova]\n",
    "hot_slova = [s.rstrip(\",\") for s in hot_slova]\n",
    "hot_slova\n",
    "\n"
   ]
  },
  {
   "cell_type": "markdown",
   "metadata": {},
   "source": [
    "## Reálne dáta\n",
    "\n",
    "Zoberme si xyz súbor `dump.xyz`.\n",
    "* Prvy riadok: počet atómov\n",
    "* Druhý riadok: komentár\n",
    "* Zvyšné riadky: typ atómu a súradnice"
   ]
  },
  {
   "cell_type": "code",
   "execution_count": 18,
   "metadata": {
    "collapsed": false
   },
   "outputs": [
    {
     "name": "stdout",
     "output_type": "stream",
     "text": [
      "cat: dump.xyz: No such file or directory\r\n"
     ]
    }
   ],
   "source": [
    "cat dump.xyz"
   ]
  },
  {
   "cell_type": "code",
   "execution_count": 19,
   "metadata": {
    "collapsed": false
   },
   "outputs": [
    {
     "ename": "FileNotFoundError",
     "evalue": "[Errno 2] No such file or directory: 'dump.xyz'",
     "output_type": "error",
     "traceback": [
      "\u001b[0;31m---------------------------------------------------------------------------\u001b[0m",
      "\u001b[0;31mFileNotFoundError\u001b[0m                         Traceback (most recent call last)",
      "\u001b[0;32m<ipython-input-19-a0ae461cc69f>\u001b[0m in \u001b[0;36m<module>\u001b[0;34m()\u001b[0m\n\u001b[1;32m      1\u001b[0m \u001b[0mfname\u001b[0m \u001b[0;34m=\u001b[0m \u001b[0;34m\"dump.xyz\"\u001b[0m\u001b[0;34m\u001b[0m\u001b[0m\n\u001b[0;32m----> 2\u001b[0;31m \u001b[0mA\u001b[0m \u001b[0;34m=\u001b[0m \u001b[0mopen\u001b[0m\u001b[0;34m(\u001b[0m\u001b[0mfname\u001b[0m\u001b[0;34m)\u001b[0m\u001b[0;34m.\u001b[0m\u001b[0mreadlines\u001b[0m\u001b[0;34m(\u001b[0m\u001b[0;34m)\u001b[0m\u001b[0;34m\u001b[0m\u001b[0m\n\u001b[0m\u001b[1;32m      3\u001b[0m \u001b[0mA\u001b[0m\u001b[0;34m[\u001b[0m\u001b[0;34m:\u001b[0m\u001b[0;36m2\u001b[0m\u001b[0;34m]\u001b[0m\u001b[0;34m\u001b[0m\u001b[0m\n",
      "\u001b[0;31mFileNotFoundError\u001b[0m: [Errno 2] No such file or directory: 'dump.xyz'"
     ]
    }
   ],
   "source": [
    "fname = \"dump.xyz\"\n",
    "A = open(fname).readlines()\n",
    "A[:2]"
   ]
  },
  {
   "cell_type": "code",
   "execution_count": 20,
   "metadata": {
    "collapsed": false
   },
   "outputs": [
    {
     "ename": "NameError",
     "evalue": "name 'A' is not defined",
     "output_type": "error",
     "traceback": [
      "\u001b[0;31m---------------------------------------------------------------------------\u001b[0m",
      "\u001b[0;31mNameError\u001b[0m                                 Traceback (most recent call last)",
      "\u001b[0;32m<ipython-input-20-7a1cf666395d>\u001b[0m in \u001b[0;36m<module>\u001b[0;34m()\u001b[0m\n\u001b[0;32m----> 1\u001b[0;31m \u001b[0mA\u001b[0m\u001b[0;34m[\u001b[0m\u001b[0;36m2\u001b[0m\u001b[0;34m:\u001b[0m\u001b[0;34m]\u001b[0m\u001b[0;34m\u001b[0m\u001b[0m\n\u001b[0m",
      "\u001b[0;31mNameError\u001b[0m: name 'A' is not defined"
     ]
    }
   ],
   "source": [
    "A[2:]"
   ]
  },
  {
   "cell_type": "code",
   "execution_count": 12,
   "metadata": {
    "collapsed": false
   },
   "outputs": [
    {
     "data": {
      "text/plain": [
       "[[1.0, 1.12579e-08, 2.02559e-08, 1.42524e-08],\n",
       " [1.0, 1.094e-08, 2.0351e-08, 1.37532e-08],\n",
       " [1.0, 1.06093e-08, 2.08093e-08, 1.36298e-08],\n",
       " [2.0, 1.02329e-08, 2.06154e-08, 1.38708e-08],\n",
       " [3.0, 9.9807e-09, 2.01773e-08, 1.43359e-08],\n",
       " [1.0, 9.90293e-09, 1.93784e-08, 1.43204e-08],\n",
       " [1.0, 9.75859e-09, 2.00558e-08, 1.46675e-08],\n",
       " [1.0, 9.92161e-09, 2.07367e-08, 1.43633e-08],\n",
       " [2.0, 9.60101e-09, 2.05323e-08, 1.48212e-08],\n",
       " [3.0, 9.5146e-09, 2.10736e-08, 1.42384e-08],\n",
       " [1.0, 9.88079e-09, 2.09729e-08, 1.38977e-08],\n",
       " [1.0, 9.63685e-09, 2.10999e-08, 1.45368e-08],\n",
       " [1.0, 9.24626e-09, 2.13127e-08, 1.46208e-08],\n",
       " [2.0, 9.58693e-09, 2.17385e-08, 1.47513e-08],\n",
       " [3.0, 9.54441e-09, 2.25182e-08, 1.4969e-08],\n",
       " [1.0, 9.46635e-09, 2.21348e-08, 1.56699e-08],\n",
       " [1.0, 9.33187e-09, 2.14316e-08, 1.53606e-08],\n",
       " [1.0, 9.73877e-09, 2.14188e-08, 1.53489e-08],\n",
       " [2.0, 9.58312e-09, 2.06738e-08, 1.54521e-08],\n",
       " [3.0, 9.91561e-09, 2.03269e-08, 1.57685e-08]]"
      ]
     },
     "execution_count": 12,
     "metadata": {},
     "output_type": "execute_result"
    }
   ],
   "source": [
    "B = A[2:]\n",
    "B = [[float(i) for i in line.split()] for line in B]\n",
    "\n",
    "# Pozor! V numpy maticiach nemozno spravit jeden stlpec typu int\n",
    "# a iny typu float\n",
    "#B[:, 0] = [int(B[i, 0]) for i in B[:, 0]]\n",
    "#B[:, 0] = B[:, 0].astype(int)   # nejde\n",
    "B"
   ]
  },
  {
   "cell_type": "markdown",
   "metadata": {},
   "source": [
    "## Alternatívne...\n",
    "\n",
    "... vyrobme si objekt a uložme atómové typy a xyz maticu do rôznych atribútov."
   ]
  },
  {
   "cell_type": "code",
   "execution_count": 14,
   "metadata": {
    "collapsed": false
   },
   "outputs": [],
   "source": [
    "class xyzMatica():\n",
    "    def __init__(self):\n",
    "        self.types = []\n",
    "        self.xyz = np.array([[]])\n",
    "        self.pozdrav = \"ahoj Fero\"\n",
    "    \n",
    "    def read(self, fname):\n",
    "        A = open(fname).readlines()\n",
    "        A = [line.split() for line in A[2:]]\n",
    "        A = np.array(A).astype(float)\n",
    "        self.types = A[:, 0].astype(int)\n",
    "        self.xyz = A[:, 1:4]\n",
    "        "
   ]
  },
  {
   "cell_type": "code",
   "execution_count": 15,
   "metadata": {
    "collapsed": false
   },
   "outputs": [
    {
     "data": {
      "text/plain": [
       "[]"
      ]
     },
     "execution_count": 15,
     "metadata": {},
     "output_type": "execute_result"
    }
   ],
   "source": [
    "moja_matica = xyzMatica()\n",
    "moja_matica.types"
   ]
  },
  {
   "cell_type": "code",
   "execution_count": 16,
   "metadata": {
    "collapsed": false
   },
   "outputs": [
    {
     "data": {
      "text/plain": [
       "array([], shape=(1, 0), dtype=float64)"
      ]
     },
     "execution_count": 16,
     "metadata": {},
     "output_type": "execute_result"
    }
   ],
   "source": [
    "moja_matica.xyz"
   ]
  },
  {
   "cell_type": "code",
   "execution_count": 17,
   "metadata": {
    "collapsed": false
   },
   "outputs": [
    {
     "data": {
      "text/plain": [
       "array([1, 1, 1, 2, 3, 1, 1, 1, 2, 3, 1, 1, 1, 2, 3, 1, 1, 1, 2, 3])"
      ]
     },
     "execution_count": 17,
     "metadata": {},
     "output_type": "execute_result"
    }
   ],
   "source": [
    "# teraz do objektu nacitajme data\n",
    "mat = xyzMatica()\n",
    "mat.read(\"dump.xyz\")\n",
    "mat.types"
   ]
  },
  {
   "cell_type": "markdown",
   "metadata": {},
   "source": [
    "***\n",
    "## [Problem]\n",
    "\n",
    "Načítajte *Lose yourself* a nájdite počet prázdnych riadkov.\n",
    "***"
   ]
  },
  {
   "cell_type": "code",
   "execution_count": 22,
   "metadata": {
    "collapsed": false
   },
   "outputs": [
    {
     "data": {
      "text/plain": [
       "8"
      ]
     },
     "execution_count": 22,
     "metadata": {},
     "output_type": "execute_result"
    }
   ],
   "source": [
    "lyric = open(\"eminem.out\", \"r\").readlines()\n",
    "prazdne = [line for line in lyric if line == \"\\n\"]\n",
    "len(prazdne)"
   ]
  }
 ],
 "metadata": {
  "kernelspec": {
   "display_name": "Python 3",
   "language": "python",
   "name": "python3"
  },
  "language_info": {
   "codemirror_mode": {
    "name": "ipython",
    "version": 3
   },
   "file_extension": ".py",
   "mimetype": "text/x-python",
   "name": "python",
   "nbconvert_exporter": "python",
   "pygments_lexer": "ipython3",
   "version": "3.5.2"
  }
 },
 "nbformat": 4,
 "nbformat_minor": 0
}
