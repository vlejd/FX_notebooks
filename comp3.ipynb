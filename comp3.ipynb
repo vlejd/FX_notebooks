{
 "cells": [
  {
   "cell_type": "markdown",
   "metadata": {},
   "source": [
    "# Comp 3\n",
    "\n",
    "Peter Vanya\n",
    "\n",
    "Jarná škola FX, marec 2016\n",
    "\n",
    "## Program na dnes\n",
    "Práca so súbormi, tlačenie a načítanie dát."
   ]
  },
  {
   "cell_type": "markdown",
   "metadata": {},
   "source": [
    "## Za pomoci numpy\n",
    "\n",
    "Najjednoduchší spôsob za pomoci dvoch príkazov: `np.loadtxt` a `np.savetxt`."
   ]
  },
  {
   "cell_type": "code",
   "execution_count": 3,
   "metadata": {
    "collapsed": false
   },
   "outputs": [],
   "source": [
    "# najjednoduchsi sposob\n",
    "import numpy as np\n",
    "import os\n",
    "\n",
    "a = np.arange(10)\n",
    "print(a)\n",
    "fname = \"subor.out\"\n",
    "np.savetxt(fname, a)   # vektor ulozeny v subor.out\n",
    "os.listdir(\".\")        # je tam, ale pozor na formatovanie"
   ]
  },
  {
   "cell_type": "code",
   "execution_count": 4,
   "metadata": {
    "collapsed": false
   },
   "outputs": [],
   "source": [
    "cat subor.out"
   ]
  },
  {
   "cell_type": "code",
   "execution_count": 5,
   "metadata": {
    "collapsed": false
   },
   "outputs": [],
   "source": [
    "# opatovne nacitanie\n",
    "b = np.loadtxt(\"subor.out\")\n",
    "b    # premena z int na float"
   ]
  },
  {
   "cell_type": "markdown",
   "metadata": {},
   "source": [
    "## Štandardný Python"
   ]
  },
  {
   "cell_type": "code",
   "execution_count": 6,
   "metadata": {
    "collapsed": false
   },
   "outputs": [],
   "source": [
    "veta = \"toto je veta\"\n",
    "fname = \"veta.out\"\n",
    "\n",
    "# spravny sposob\n",
    "with open(fname, \"w\") as f:\n",
    "    f.write(veta)\n",
    "        \n",
    "# alebo na jeden riadok\n",
    "open(fname, \"w\").write(veta + \"42\" + veta)"
   ]
  },
  {
   "cell_type": "code",
   "execution_count": 7,
   "metadata": {
    "collapsed": false
   },
   "outputs": [],
   "source": [
    "# nacitanie\n",
    "veta = open(fname, \"r\").read()\n",
    "print(veta)\n",
    "print(len(veta))    # dlzka"
   ]
  },
  {
   "cell_type": "code",
   "execution_count": 7,
   "metadata": {
    "collapsed": true
   },
   "outputs": [],
   "source": [
    "# popripade vieme pouzit aj print (pozor, funguje len v python 3)\n",
    "f = open(\"veta2.out\", \"w\")  # to w znamena, ze je to otvorene na pisanie (writing)\n",
    "print(\"Super veta 3000\", file=f)\n",
    "f.close()"
   ]
  },
  {
   "cell_type": "markdown",
   "metadata": {},
   "source": [
    "## Operácie so stringom [Adv 1]\n",
    "Python má perfektné možnosti manipulácie stringov, stojí za to sa ich naučiť (napr. ak raz budete chcieť scrapovať internet alebo \"čítať\" emaily)"
   ]
  },
  {
   "cell_type": "code",
   "execution_count": 8,
   "metadata": {
    "collapsed": false
   },
   "outputs": [],
   "source": [
    "print(veta)\n",
    "print(veta.split())              # rozdel podla medzier\n",
    "print(veta.split(\"t\"))           # rozdel podla znaku t"
   ]
  },
  {
   "cell_type": "code",
   "execution_count": 9,
   "metadata": {
    "collapsed": false
   },
   "outputs": [],
   "source": [
    "print(\"_333_\".join(veta.split()))    # spoj naspat podla zelaneho znaku"
   ]
  },
  {
   "cell_type": "markdown",
   "metadata": {},
   "source": [
    "Realny text:"
   ]
  },
  {
   "cell_type": "code",
   "execution_count": 10,
   "metadata": {
    "collapsed": false
   },
   "outputs": [],
   "source": [
    "fname = \"eminem.out\"\n",
    "lyric = open(fname, \"r\").read()\n",
    "print(len(lyric))                   # pocet znakov\n",
    "print(len(lyric.split()))           # pocet slov"
   ]
  },
  {
   "cell_type": "code",
   "execution_count": 11,
   "metadata": {
    "collapsed": false
   },
   "outputs": [],
   "source": [
    "# inak\n",
    "lyric = open(fname, \"r\").readlines()\n",
    "len(lyric)        # pocet riadkov"
   ]
  },
  {
   "cell_type": "code",
   "execution_count": 12,
   "metadata": {
    "collapsed": false
   },
   "outputs": [],
   "source": [
    "print(lyric[:50])"
   ]
  },
  {
   "cell_type": "code",
   "execution_count": 13,
   "metadata": {
    "collapsed": false
   },
   "outputs": [],
   "source": [
    "# najdime nejake slovo\n",
    "word = \"mother\"\n",
    "zoznam_riadkov = [l for l in lyric if word in l]\n",
    "zoznam_riadkov"
   ]
  },
  {
   "cell_type": "code",
   "execution_count": 15,
   "metadata": {
    "collapsed": false
   },
   "outputs": [],
   "source": [
    "[i**2 for i in range(10)]"
   ]
  },
  {
   "cell_type": "code",
   "execution_count": 16,
   "metadata": {
    "collapsed": false
   },
   "outputs": [],
   "source": [
    "lyric = open(\"eminem.out\", \"r\").readlines()\n",
    "#print(lyric[:100])\n",
    "hot_vety = [l for l in lyric if \"hot\" in l]\n",
    "hot_slova = [slovo for slovo in \" \".join(hot_vety).split() if \"hot\" in slovo]\n",
    "print(hot_slova)\n",
    "hot_slova = [s.rstrip(\".\") for s in hot_slova]\n",
    "hot_slova = [s.rstrip(\",\") for s in hot_slova]\n",
    "hot_slova\n",
    "\n"
   ]
  },
  {
   "cell_type": "markdown",
   "metadata": {},
   "source": [
    "## Reálne dáta\n",
    "\n",
    "Zoberme si xyz súbor `dump.xyz`.\n",
    "* Prvy riadok: počet atómov\n",
    "* Druhý riadok: komentár\n",
    "* Zvyšné riadky: typ atómu a súradnice"
   ]
  },
  {
   "cell_type": "code",
   "execution_count": 18,
   "metadata": {
    "collapsed": false
   },
   "outputs": [],
   "source": [
    "cat dump.xyz"
   ]
  },
  {
   "cell_type": "code",
   "execution_count": 19,
   "metadata": {
    "collapsed": false
   },
   "outputs": [],
   "source": [
    "fname = \"dump.xyz\"\n",
    "A = open(fname).readlines()\n",
    "A[:2]"
   ]
  },
  {
   "cell_type": "code",
   "execution_count": 20,
   "metadata": {
    "collapsed": false
   },
   "outputs": [],
   "source": [
    "A[2:]"
   ]
  },
  {
   "cell_type": "code",
   "execution_count": 12,
   "metadata": {
    "collapsed": false
   },
   "outputs": [],
   "source": [
    "B = A[2:]\n",
    "B = [[float(i) for i in line.split()] for line in B]\n",
    "\n",
    "# Pozor! V numpy maticiach nemozno spravit jeden stlpec typu int\n",
    "# a iny typu float\n",
    "#B[:, 0] = [int(B[i, 0]) for i in B[:, 0]]\n",
    "#B[:, 0] = B[:, 0].astype(int)   # nejde\n",
    "B"
   ]
  },
  {
   "cell_type": "markdown",
   "metadata": {},
   "source": [
    "## Alternatívne...\n",
    "\n",
    "... vyrobme si objekt a uložme atómové typy a xyz maticu do rôznych atribútov."
   ]
  },
  {
   "cell_type": "code",
   "execution_count": 14,
   "metadata": {
    "collapsed": false
   },
   "outputs": [],
   "source": [
    "class xyzMatica():\n",
    "    def __init__(self):\n",
    "        self.types = []\n",
    "        self.xyz = np.array([[]])\n",
    "        self.pozdrav = \"ahoj Fero\"\n",
    "    \n",
    "    def read(self, fname):\n",
    "        A = open(fname).readlines()\n",
    "        A = [line.split() for line in A[2:]]\n",
    "        A = np.array(A).astype(float)\n",
    "        self.types = A[:, 0].astype(int)\n",
    "        self.xyz = A[:, 1:4]\n",
    "        "
   ]
  },
  {
   "cell_type": "code",
   "execution_count": 15,
   "metadata": {
    "collapsed": false
   },
   "outputs": [],
   "source": [
    "moja_matica = xyzMatica()\n",
    "moja_matica.types"
   ]
  },
  {
   "cell_type": "code",
   "execution_count": 16,
   "metadata": {
    "collapsed": false
   },
   "outputs": [],
   "source": [
    "moja_matica.xyz"
   ]
  },
  {
   "cell_type": "code",
   "execution_count": 17,
   "metadata": {
    "collapsed": false
   },
   "outputs": [],
   "source": [
    "# teraz do objektu nacitajme data\n",
    "mat = xyzMatica()\n",
    "mat.read(\"dump.xyz\")\n",
    "mat.types"
   ]
  },
  {
   "cell_type": "markdown",
   "metadata": {},
   "source": [
    "***\n",
    "## [Problem]\n",
    "\n",
    "Načítajte *Lose yourself* a nájdite počet prázdnych riadkov.\n",
    "***"
   ]
  },
  {
   "cell_type": "code",
   "execution_count": 22,
   "metadata": {
    "collapsed": false
   },
   "outputs": [],
   "source": [
    "lyric = open(\"eminem.out\", \"r\").readlines()\n",
    "prazdne = [line for line in lyric if line == \"\\n\"]\n",
    "len(prazdne)"
   ]
  }
 ],
 "metadata": {
  "kernelspec": {
   "display_name": "Python 3",
   "language": "python",
   "name": "python3"
  },
  "language_info": {
   "codemirror_mode": {
    "name": "ipython",
    "version": 3
   },
   "file_extension": ".py",
   "mimetype": "text/x-python",
   "name": "python",
   "nbconvert_exporter": "python",
   "pygments_lexer": "ipython3",
   "version": "3.5.2"
  }
 },
 "nbformat": 4,
 "nbformat_minor": 0
}
