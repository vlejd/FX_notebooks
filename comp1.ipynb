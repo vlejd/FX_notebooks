{
 "cells": [
  {
   "cell_type": "markdown",
   "metadata": {},
   "source": [
    "# Comp 1\n",
    "\n",
    "Peter Vanya\n",
    "\n",
    "Jarná škola FX, marec 2016\n",
    "\n",
    "Programovanie posúva teóriu bližšie k experimentom tam, kde teória nestačí (skoro všade, analyticky riešiteľných problémov je minimum). V škole (na strednej alebo vysokej) sa programovanie moc neučí, tak vám ho v plnej kráse prinášame my.\n",
    "\n",
    "## Ideme sa učiť Python\n",
    "V tomto kurze sa naučíme komunikovať v jazyku Python (názov odvodený od *Monty Python*, nie toho hada), konkrétne verzie 3 (inak sa ešte používa verzia 2.7). \n",
    "\n",
    "### Výhody\n",
    "Na rozdiel od prastarých jazykov ako Pascal a C, a modernejších ako C++:\n",
    "\n",
    "* general-purpose, použiva sa na weby ako aj *high-performance computing* (= vo vede)\n",
    "* netreba ho kompilovať, stačí len písať kód a stláčať Enter (v tomto prípade Shift+Enter)\n",
    "* ľahko v ňom možno zadefinovať pre vedu užitočné koncepty ako vektory a matice (príp. tenzory vyššieho rádu; obsahuje obrovské množsvo algoritmov na diferenciálne rovnice, Fourierove transformácie, alebo prakticky hocičo dôležité\n",
    "* je príjemný na čítanie a písanie\n",
    "* vynikajúca dokumentácia ([docs.python.org](http://docs.python.org) alebo Stack Overflow)\n",
    "* dynamické typy (netreba písať, či je niečo int alebo string), vďaka čomu sa v ňom veľmi ľahko píšu kratšie skripty.\n",
    "\n",
    "### Nevýhody\n",
    "V porovnaní s C++ a Fortranom je pomalý. To sa dá občas napraviť rôznymi spôsobmi zlepšiť, napr.:\n",
    "* integrovaním kód Fortranu pre časovo náročné výpočty (v prípade záujmu sa ma spýtajte osobne)\n",
    "* použitím knižinice [Numba](http://numba.pydata.org) Ako? (*Numba works by generating optimized machine code using the LLVM compiler infrastructure at import time, runtime, or statically (using the included pycc tool). Numba supports compilation of Python to run on either CPU or GPU hardware, and is designed to integrate with the Python scientific software stack.*)\n",
    "\n",
    "Vďaka tomu, že je Python dynamicky typovaný, je občas ťažké zistiť, čo daná funkcia robí a akého typu má mať parametre. Preto sa odporúča vždy nechať v komentáry aspoň krátky popisok toho, čo funkcia učakáva na vstupe.\n",
    "\n",
    "## Čo ešte sa naučíme\n",
    "V obmedzenej miere, ale predsa budete mať šancu zoznámiť sa s nasledovnými konceptami:\n",
    "* *git*, version control system\n",
    "* *IPython notebook*, po novom Jupyter (Julia, Python, R, tri programovacie jazyky budúcnosti). To, na čo sa práve pozeráte, i.e. písaný text a kód pomedzi to v prehliadači\n",
    "\n",
    "## Osnova\n",
    "1. Základy: premenné, for cyklus, užitočné koncepty v Pythone\n",
    "2. Matematické operácie: vektory, matice, skalárne a vektorové súčiny\n",
    "3. Input/output: načítavanie zo a písanie do súborov\n",
    "4. Fyzika! Derivovanie, integrovanie, riešenie difiek\n",
    "\n",
    "## Ako sa efektívne učiť\n",
    "* *Practice makes perfect*. Kvantita (snahy) produkuje kvalitu. Čím viac toho poskúšate, tým hlbšie do pamäti sa vám to zaryje\n",
    "* Ak niečomu nerozumiete, formulujte otázku, čomu presne, a niekde si ju zapíšte. Potom sa nad ňou zamyslite alebo sa ju niekoho (kamaráta alebo prednášajúceho) spýtajte\n",
    "\n",
    "Poďme na to!"
   ]
  },
  {
   "cell_type": "markdown",
   "metadata": {},
   "source": [
    "## Premenné"
   ]
  },
  {
   "cell_type": "code",
   "execution_count": 1,
   "metadata": {
    "collapsed": false
   },
   "outputs": [],
   "source": [
    "# toto je komentar, pre istotu nepiseme s diakritikou\n",
    "\"\"\" Aj toto je komentar. Toto je ale aj string. Nevadi, ze je cerveny.\"\"\"\n",
    "# pre vyhodnotenie bunky stlacte Shift+Enter\n",
    "a = 5  # toto je premenna\n",
    "type(a)  # tato premenna je typu int"
   ]
  },
  {
   "cell_type": "code",
   "execution_count": 2,
   "metadata": {
    "collapsed": false
   },
   "outputs": [],
   "source": [
    "float"
   ]
  },
  {
   "cell_type": "code",
   "execution_count": 3,
   "metadata": {
    "collapsed": false
   },
   "outputs": [],
   "source": [
    "# typ premennej je automaticky uhadnuty\n",
    "b = 0.2\n",
    "type(b)"
   ]
  },
  {
   "cell_type": "code",
   "execution_count": 4,
   "metadata": {
    "collapsed": false
   },
   "outputs": [],
   "source": [
    "print(a)    # vsimnite si zatvorky okolo! Novinka v Python3\n",
    "a=1\n",
    "print(a/2)\n",
    "print(a//2) # celociselne delenie\n",
    "print(a%2)  # zvysok po deleni"
   ]
  },
  {
   "cell_type": "code",
   "execution_count": 5,
   "metadata": {
    "collapsed": false
   },
   "outputs": [],
   "source": [
    "a+b    # scitanie"
   ]
  },
  {
   "cell_type": "code",
   "execution_count": 6,
   "metadata": {
    "collapsed": false
   },
   "outputs": [],
   "source": [
    "b=3\n",
    "b**2   # umocnenie"
   ]
  },
  {
   "cell_type": "code",
   "execution_count": 7,
   "metadata": {
    "collapsed": true
   },
   "outputs": [],
   "source": [
    "# Python vie robit aj s velmi velkymi cislami. Kolko je 99 umocnene na 99? "
   ]
  },
  {
   "cell_type": "code",
   "execution_count": 8,
   "metadata": {
    "collapsed": false
   },
   "outputs": [],
   "source": [
    "# CODE"
   ]
  },
  {
   "cell_type": "markdown",
   "metadata": {},
   "source": [
    "## Strings"
   ]
  },
  {
   "cell_type": "code",
   "execution_count": 9,
   "metadata": {
    "collapsed": false
   },
   "outputs": [],
   "source": [
    "c = \"abc\"\n",
    "type(c)"
   ]
  },
  {
   "cell_type": "markdown",
   "metadata": {},
   "source": [
    "Zo stringami vieme robit niekotore prijemne operacie"
   ]
  },
  {
   "cell_type": "code",
   "execution_count": 10,
   "metadata": {
    "collapsed": false
   },
   "outputs": [],
   "source": [
    "ahoj = \"ahoj\"\n",
    "medzera = \" \"\n",
    "svet = \"svet\"\n",
    "print(ahoj + medzera + svet)\n",
    "print((ahoj + medzera)*2 + svet)\n"
   ]
  },
  {
   "cell_type": "markdown",
   "metadata": {},
   "source": [
    "Jednotlivé stringy možno meniť na čísla, *float* alebo *int*."
   ]
  },
  {
   "cell_type": "code",
   "execution_count": 11,
   "metadata": {
    "collapsed": false
   },
   "outputs": [],
   "source": [
    "s = \"123\"\n",
    "si = int(s)\n",
    "print(si)\n",
    "sf = float(s)\n",
    "print(sf)"
   ]
  },
  {
   "cell_type": "markdown",
   "metadata": {},
   "source": [
    "... a naopak, z čísel do stringu"
   ]
  },
  {
   "cell_type": "code",
   "execution_count": 12,
   "metadata": {
    "collapsed": false
   },
   "outputs": [],
   "source": [
    "d = 123\n",
    "ds = str(d)\n",
    "print(ds + \"_\" + \"s\")"
   ]
  },
  {
   "cell_type": "markdown",
   "metadata": {},
   "source": [
    "O stringoch viac pozajtra (3. deň). Dnes spomeňme, že ich možno ľahko premeniť na pole:"
   ]
  },
  {
   "cell_type": "code",
   "execution_count": 13,
   "metadata": {
    "collapsed": false
   },
   "outputs": [],
   "source": [
    "s = \"123\"\n",
    "print(len(s))   # Aky dlhy je tento string?\n",
    "list(s)"
   ]
  },
  {
   "cell_type": "markdown",
   "metadata": {},
   "source": [
    "## Lists\n",
    "*List* je usporiadaný zoznam prvkov, ktorý možno meniť, napr. `a = [1,2,3]`\n",
    "\n",
    "Okrem toho existuje *tuple*, ktorý sú nemenný, napr. `a = (1, 2, 3)`\n"
   ]
  },
  {
   "cell_type": "code",
   "execution_count": 14,
   "metadata": {
    "collapsed": false
   },
   "outputs": [],
   "source": [
    "a = [1, 2, 3]\n",
    "print(a)\n",
    "b = [2, 5]\n",
    "c = a + b        # pozor na scitanie listov!\n",
    "print(a + b)\n",
    "#print(a-b)      # Error, vyskusajte"
   ]
  },
  {
   "cell_type": "markdown",
   "metadata": {},
   "source": [
    "Prístup k prvkom:"
   ]
  },
  {
   "cell_type": "code",
   "execution_count": 15,
   "metadata": {
    "collapsed": false
   },
   "outputs": [],
   "source": [
    "print(a[0])   # prvy element, cislovanie zacina nulou!\n",
    "print(a[-1])  # posledny element\n",
    "#a[3]   # Error: list index out of range\n",
    "a[0] = 5\n",
    "print(a)      # prvy element zmeneny\n",
    "print(a[10])"
   ]
  },
  {
   "cell_type": "code",
   "execution_count": 16,
   "metadata": {
    "collapsed": false
   },
   "outputs": [],
   "source": [
    "# Skuste to aj zo stringom. Ake je desiate pismeno stringu s?\n",
    "s = \"Toto je string s uzastnym desiatym pismenom\"\n",
    "# CODE"
   ]
  },
  {
   "cell_type": "markdown",
   "metadata": {},
   "source": [
    "Rôzne operácie:"
   ]
  },
  {
   "cell_type": "code",
   "execution_count": 17,
   "metadata": {
    "collapsed": false
   },
   "outputs": [],
   "source": [
    "# dlzka listov\n",
    "print(len(a))\n",
    "# suma clenov\n",
    "sum(a)\n",
    "print(sum(a))\n",
    "# pripoj dalsie cislo\n",
    "a.append(10)\n",
    "print(a)"
   ]
  },
  {
   "cell_type": "markdown",
   "metadata": {},
   "source": [
    "Listy možno usporiadať."
   ]
  },
  {
   "cell_type": "code",
   "execution_count": 18,
   "metadata": {
    "collapsed": false
   },
   "outputs": [],
   "source": [
    "v = [5, 3, 8, 1]\n",
    "print(v)\n",
    "v.sort()\n",
    "print(v)\n",
    "# pozor na list. Skuste si vysledok funkcie reverz vypisat bez toho, aby ste ho konvertovali na list\n",
    "print(list(reversed(v)))   \n"
   ]
  },
  {
   "cell_type": "code",
   "execution_count": 19,
   "metadata": {
    "collapsed": false
   },
   "outputs": [],
   "source": [
    "# specificke listy\n",
    "r = range(10)\n",
    "print(r)\n",
    "# takto zabezpecime, aby to bol naozaj list. Vela veci, ako napriklad for,\n",
    "# funuguju aj bez toho, aby to bol v skutocnosti list\n",
    "r = list(r)    \n",
    "print(r)\n",
    "print(len(r), sum(r))\n",
    "\n",
    "# rozne ine moznosti, vseobecna struktura\n",
    "# range(first, last, increment)\n",
    "print(list(range(1,10,2)))\n",
    "print(list(range(10,1)))    # prazdny list\n",
    "print(list(range(10,1,-1)))"
   ]
  },
  {
   "cell_type": "code",
   "execution_count": 20,
   "metadata": {
    "collapsed": false
   },
   "outputs": [],
   "source": [
    "a=range(5)\n",
    "print(a)\n",
    "a[2]\n",
    "print(type(a))"
   ]
  },
  {
   "cell_type": "markdown",
   "metadata": {},
   "source": [
    "Krátko o tuploch."
   ]
  },
  {
   "cell_type": "code",
   "execution_count": 21,
   "metadata": {
    "collapsed": false
   },
   "outputs": [],
   "source": [
    "t = (1, 2)\n",
    "print(t)\n",
    "print(sum(t))    # podobne operacie ako na listoch\n",
    "t[1] = 3         # error! Tuple nemozno menit"
   ]
  },
  {
   "cell_type": "markdown",
   "metadata": {},
   "source": []
  },
  {
   "cell_type": "markdown",
   "metadata": {},
   "source": [
    "## For cyklus"
   ]
  },
  {
   "cell_type": "code",
   "execution_count": 22,
   "metadata": {
    "collapsed": false
   },
   "outputs": [],
   "source": [
    "# for <premenna> in <zoznam hodnuot>\n",
    "# do premennej sa nam priradia postupne vsetky hodnoty zo zoznamu a spusti sa telo funkcie\n",
    "for i in range(10):\n",
    "    print(i, i**2)"
   ]
  },
  {
   "cell_type": "code",
   "execution_count": 23,
   "metadata": {
    "collapsed": false
   },
   "outputs": [],
   "source": [
    "for i in [4, 1, 5, 22, 5]:\n",
    "    print(i)"
   ]
  },
  {
   "cell_type": "code",
   "execution_count": 24,
   "metadata": {
    "collapsed": false
   },
   "outputs": [],
   "source": [
    "for i in \"abc\":   # prechadzat mozno aj stringy\n",
    "    print(i)"
   ]
  },
  {
   "cell_type": "code",
   "execution_count": 25,
   "metadata": {
    "collapsed": false
   },
   "outputs": [],
   "source": [
    "# Mozme mat aj for vo fore\n",
    "for i in [1,2,3]:\n",
    "    for j in [4,5,6]:\n",
    "        print(i, j)"
   ]
  },
  {
   "cell_type": "markdown",
   "metadata": {},
   "source": [
    "Skúste zrátať sté fibonačiho číslo. $F_0=0$, $F_1 = 1$, $F_{i+2} = F_{i+1} + F_{i}$."
   ]
  },
  {
   "cell_type": "code",
   "execution_count": null,
   "metadata": {
    "collapsed": false
   },
   "outputs": [],
   "source": [
    "# Code\n",
    "F_i = 0\n",
    "F_i1 = 1\n",
    "F_i2 = ????\n",
    "for i in range(???):\n",
    "    F_i2 = ????\n",
    "    F_i1 = ????\n",
    "    F_i = ????\n"
   ]
  },
  {
   "cell_type": "markdown",
   "metadata": {
    "collapsed": true
   },
   "source": [
    "## Pristupocanie k prvkom listu"
   ]
  },
  {
   "cell_type": "markdown",
   "metadata": {},
   "source": [
    "Už sme videli, ako sa dá z listu vytiahnuť jeden prvok."
   ]
  },
  {
   "cell_type": "code",
   "execution_count": 71,
   "metadata": {
    "collapsed": false
   },
   "outputs": [],
   "source": [
    "a = [3, 1, 4, 1, 5, 9, 2, 6, 5, 3, 5, 9]\n",
    "print(a[0])\n",
    "print(a[1])\n",
    "print(a[-1])"
   ]
  },
  {
   "cell_type": "markdown",
   "metadata": {},
   "source": [
    "Vieme ale vyberať aj podpostupnosti (\"podlisty\")"
   ]
  },
  {
   "cell_type": "code",
   "execution_count": 72,
   "metadata": {
    "collapsed": false
   },
   "outputs": [],
   "source": [
    "print(a[0:2])   # prve dva prvky\n",
    "print(a[:2])    # nulu mozme vynechat\n",
    "print(a[7:])    # prvky od stvrteho vyssie\n",
    "print(a[-2:])   # prvky od predposledneho vyssie\n",
    "print(a[::2])   # kazdy druhy prvok"
   ]
  },
  {
   "cell_type": "markdown",
   "metadata": {},
   "source": [
    "## List comprehension\n",
    "Zjednodušený for cyklus v Pythone na jeden riadok, veľmi užitočná vec."
   ]
  },
  {
   "cell_type": "code",
   "execution_count": 73,
   "metadata": {
    "collapsed": false
   },
   "outputs": [],
   "source": [
    "b = [i*i for i in range(10)]\n",
    "print(b)\n",
    "A = [[i+j for i in range(5)] for j in range(5)]   # matica (list listov), len nie pekne zapisana\n",
    "print(A)\n",
    "print(A[1])   # pristup k jednotlivym riadkom\n",
    "print(A[1][3])   # pristup k jednotlivym prvkom\n",
    "# k jednotlivym stplcom pristupovat nevieme :("
   ]
  },
  {
   "cell_type": "markdown",
   "metadata": {},
   "source": [
    "## Funkcie\n",
    "Základný stavebný prvok programovacieho jazyka.\n",
    "\n",
    "Funkcie v Pythone môžu vracať viacero premenných (na rozdiel C/C++ a Fortranu)."
   ]
  },
  {
   "cell_type": "code",
   "execution_count": 74,
   "metadata": {
    "collapsed": true
   },
   "outputs": [],
   "source": [
    "def plus(a, b):\n",
    "    return a + b"
   ]
  },
  {
   "cell_type": "code",
   "execution_count": 75,
   "metadata": {
    "collapsed": false
   },
   "outputs": [],
   "source": [
    "print(plus(1, 2))\n",
    "print(plus(3.2, -1))"
   ]
  },
  {
   "cell_type": "code",
   "execution_count": 76,
   "metadata": {
    "collapsed": false
   },
   "outputs": [],
   "source": [
    "# vo funkcii mozu byt defautlne premenne (netreba ich vyplnat, ak nam vyhovuje ich default hodnota)\n",
    "def plus2(a, b=2):\n",
    "    return a + b\n",
    "\n",
    "print(plus2(7))\n",
    "print(plus2(7,4))"
   ]
  },
  {
   "cell_type": "code",
   "execution_count": 77,
   "metadata": {
    "collapsed": true
   },
   "outputs": [],
   "source": [
    "# ciferny sucet, elegantne\n",
    "def cif_sucet(a):\n",
    "    return sum([int(i) for i in str(a)])"
   ]
  },
  {
   "cell_type": "code",
   "execution_count": 78,
   "metadata": {
    "collapsed": false
   },
   "outputs": [],
   "source": [
    "cif_sucet(123)"
   ]
  },
  {
   "cell_type": "code",
   "execution_count": 79,
   "metadata": {
    "collapsed": false
   },
   "outputs": [],
   "source": [
    "# co sme spravili?\n",
    "b = 234\n",
    "[int(i) for i in str(b)]"
   ]
  },
  {
   "cell_type": "markdown",
   "metadata": {},
   "source": [
    "***\n",
    "## [Problem]\n",
    "V Prima Banke ponúkajú vklad s 5% ročným úrokom. Ak budete počas jedného roka každý mesiac vkladať 50 eur, na konci mesiaca vám pribudne 5% per annum z celkovej sumy, ktorú v tom čase máte na účte. Koľko eur na konci roka zarobíte?\n",
    "***"
   ]
  },
  {
   "cell_type": "code",
   "execution_count": 67,
   "metadata": {
    "collapsed": true
   },
   "outputs": [],
   "source": [
    "# CODE"
   ]
  },
  {
   "cell_type": "markdown",
   "metadata": {},
   "source": [
    "## Komplexné čísla"
   ]
  },
  {
   "cell_type": "code",
   "execution_count": 81,
   "metadata": {
    "collapsed": false
   },
   "outputs": [],
   "source": [
    "z = 1 + 2j\n",
    "print(z)\n",
    "print(type(z))"
   ]
  },
  {
   "cell_type": "code",
   "execution_count": 82,
   "metadata": {
    "collapsed": false
   },
   "outputs": [],
   "source": [
    "z*z"
   ]
  },
  {
   "cell_type": "code",
   "execution_count": 83,
   "metadata": {
    "collapsed": false
   },
   "outputs": [],
   "source": [
    "z.conjugate()"
   ]
  },
  {
   "cell_type": "code",
   "execution_count": 84,
   "metadata": {
    "collapsed": false
   },
   "outputs": [],
   "source": [
    "print(z.real)\n",
    "print(z.imag)"
   ]
  },
  {
   "cell_type": "code",
   "execution_count": 85,
   "metadata": {
    "collapsed": false
   },
   "outputs": [],
   "source": [
    "from math import sqrt\n",
    "import numpy as np\n",
    "sqrt((z*z.conjugate()).real)\n",
    "abs(z)\n",
    "np.angle(z)\n"
   ]
  },
  {
   "cell_type": "markdown",
   "metadata": {
    "collapsed": true
   },
   "source": [
    "## Podmienky"
   ]
  },
  {
   "cell_type": "code",
   "execution_count": 71,
   "metadata": {
    "collapsed": false,
    "scrolled": true
   },
   "outputs": [],
   "source": [
    "a = 5\n",
    "if a == 2:\n",
    "    print(\"a sa rovna dva\")\n",
    "elif a == 3 or a == 4:\n",
    "    print(\"a sa rovna tri\")\n",
    "else:\n",
    "    print(\"a sa nerovna dva ani tri\")"
   ]
  },
  {
   "cell_type": "markdown",
   "metadata": {
    "collapsed": true
   },
   "source": [
    "---\n",
    "## [Problem]\n",
    "Zoberte číslo (napr. 1987) a spočítajte jeho ciferný súčet.\n",
    "\n",
    "---\n",
    "## [Problem]\n",
    "Nájdite súčet všetkých čísel deliteľných 3 alebo 5 menších ako 100.\n",
    "\n",
    "---\n",
    "## [Problem] [Adv]\n",
    "Napíšte funkciu, ktorá mi rozhodne, či je dané číslo prvočíslo.\n",
    "\n",
    "Nájdite súčet všetkých prvočísel do 100."
   ]
  },
  {
   "cell_type": "markdown",
   "metadata": {},
   "source": [
    "## Riešenia (nekukať)"
   ]
  },
  {
   "cell_type": "code",
   "execution_count": 76,
   "metadata": {
    "collapsed": false
   },
   "outputs": [],
   "source": [
    "# Problem 1\n",
    "a = 1987\n",
    "print([i for i in str(a)])\n",
    "print(sum([int(i) for i in str(a)]))"
   ]
  },
  {
   "cell_type": "code",
   "execution_count": 77,
   "metadata": {
    "collapsed": false
   },
   "outputs": [],
   "source": [
    "# Problem 2\n",
    "sum([i for i in range(101) if i%3 == 0 or i%5 == 0])"
   ]
  },
  {
   "cell_type": "code",
   "execution_count": 2,
   "metadata": {
    "collapsed": false
   },
   "outputs": [],
   "source": [
    "# Problem 3\n",
    "def isprime(n):\n",
    "    for i in range(2, n//2+1):\n",
    "        if n%i == 0:\n",
    "            return False\n",
    "    return True"
   ]
  },
  {
   "cell_type": "code",
   "execution_count": 4,
   "metadata": {
    "collapsed": false
   },
   "outputs": [],
   "source": [
    "print([i for i in range(2, 101) if isprime(i)])\n",
    "sum([i for i in range(2, 101) if isprime(i)])"
   ]
  },
  {
   "cell_type": "code",
   "execution_count": null,
   "metadata": {
    "collapsed": true
   },
   "outputs": [],
   "source": []
  }
 ],
 "metadata": {
  "kernelspec": {
   "display_name": "Python 3",
   "language": "python",
   "name": "python3"
  },
  "language_info": {
   "codemirror_mode": {
    "name": "ipython",
    "version": 3
   },
   "file_extension": ".py",
   "mimetype": "text/x-python",
   "name": "python",
   "nbconvert_exporter": "python",
   "pygments_lexer": "ipython3",
   "version": "3.5.2"
  }
 },
 "nbformat": 4,
 "nbformat_minor": 0
}
